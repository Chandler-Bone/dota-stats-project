{
 "cells": [
  {
   "cell_type": "markdown",
   "metadata": {},
   "source": [
    "# Dota 2 Stats Visualization\n",
    "\n",
    "Using the data we collected in the collect.ipynb file, we will be retrieving the data from the resulting csv to get the following results."
   ]
  },
  {
   "cell_type": "code",
   "execution_count": 1,
   "metadata": {},
   "outputs": [],
   "source": [
    "import pandas as pd\n",
    "import seaborn as sns\n",
    "import matplotlib.pyplot as plt\n",
    "import matplotlib.patches as mpatches\n",
    "import plotly.graph_objects as go\n",
    "import plotly.express as px\n",
    "from jupyter_dash import JupyterDash\n",
    "import dash\n",
    "from dash import html\n",
    "from dash import dcc\n",
    "from dash.dependencies import Input, Output\n",
    "\n",
    "matches_df = pd.read_csv(\"matches.csv\")\n",
    "rc_matches_df = pd.read_csv(\"recent_matches.csv\")"
   ]
  },
  {
   "cell_type": "markdown",
   "metadata": {},
   "source": [
    "Top 25 Heroes Stats Dataframe Creation"
   ]
  },
  {
   "cell_type": "code",
   "execution_count": 2,
   "metadata": {},
   "outputs": [
    {
     "data": {
      "text/html": [
       "<div>\n",
       "<style scoped>\n",
       "    .dataframe tbody tr th:only-of-type {\n",
       "        vertical-align: middle;\n",
       "    }\n",
       "\n",
       "    .dataframe tbody tr th {\n",
       "        vertical-align: top;\n",
       "    }\n",
       "\n",
       "    .dataframe thead th {\n",
       "        text-align: right;\n",
       "    }\n",
       "</style>\n",
       "<table border=\"1\" class=\"dataframe\">\n",
       "  <thead>\n",
       "    <tr style=\"text-align: right;\">\n",
       "      <th></th>\n",
       "      <th>hero_name</th>\n",
       "      <th>total_games</th>\n",
       "      <th>wins</th>\n",
       "      <th>losses</th>\n",
       "      <th>average_kills</th>\n",
       "      <th>average_deaths</th>\n",
       "      <th>average_assists</th>\n",
       "      <th>hero_name_winloss</th>\n",
       "    </tr>\n",
       "  </thead>\n",
       "  <tbody>\n",
       "    <tr>\n",
       "      <th>0</th>\n",
       "      <td>Snapfire</td>\n",
       "      <td>5</td>\n",
       "      <td>2</td>\n",
       "      <td>3</td>\n",
       "      <td>5.40</td>\n",
       "      <td>3.80</td>\n",
       "      <td>10.60</td>\n",
       "      <td>Snapfire  [ WR:40% ]</td>\n",
       "    </tr>\n",
       "    <tr>\n",
       "      <th>1</th>\n",
       "      <td>Mars</td>\n",
       "      <td>10</td>\n",
       "      <td>5</td>\n",
       "      <td>5</td>\n",
       "      <td>7.30</td>\n",
       "      <td>5.60</td>\n",
       "      <td>9.40</td>\n",
       "      <td>Mars  [ WR:50% ]</td>\n",
       "    </tr>\n",
       "    <tr>\n",
       "      <th>2</th>\n",
       "      <td>Chaos Knight</td>\n",
       "      <td>18</td>\n",
       "      <td>10</td>\n",
       "      <td>8</td>\n",
       "      <td>6.22</td>\n",
       "      <td>5.94</td>\n",
       "      <td>9.28</td>\n",
       "      <td>Chaos Knight  [ WR:56% ]</td>\n",
       "    </tr>\n",
       "    <tr>\n",
       "      <th>3</th>\n",
       "      <td>Shadow Shaman</td>\n",
       "      <td>31</td>\n",
       "      <td>19</td>\n",
       "      <td>12</td>\n",
       "      <td>3.77</td>\n",
       "      <td>9.55</td>\n",
       "      <td>13.06</td>\n",
       "      <td>Shadow Shaman  [ WR:61% ]</td>\n",
       "    </tr>\n",
       "    <tr>\n",
       "      <th>4</th>\n",
       "      <td>Ogre Magi</td>\n",
       "      <td>35</td>\n",
       "      <td>18</td>\n",
       "      <td>17</td>\n",
       "      <td>6.14</td>\n",
       "      <td>7.69</td>\n",
       "      <td>16.60</td>\n",
       "      <td>Ogre Magi  [ WR:51% ]</td>\n",
       "    </tr>\n",
       "  </tbody>\n",
       "</table>\n",
       "</div>"
      ],
      "text/plain": [
       "       hero_name  total_games  wins  losses  average_kills  average_deaths  \\\n",
       "0       Snapfire            5     2       3           5.40            3.80   \n",
       "1           Mars           10     5       5           7.30            5.60   \n",
       "2   Chaos Knight           18    10       8           6.22            5.94   \n",
       "3  Shadow Shaman           31    19      12           3.77            9.55   \n",
       "4      Ogre Magi           35    18      17           6.14            7.69   \n",
       "\n",
       "   average_assists          hero_name_winloss  \n",
       "0            10.60       Snapfire  [ WR:40% ]  \n",
       "1             9.40           Mars  [ WR:50% ]  \n",
       "2             9.28   Chaos Knight  [ WR:56% ]  \n",
       "3            13.06  Shadow Shaman  [ WR:61% ]  \n",
       "4            16.60      Ogre Magi  [ WR:51% ]  "
      ]
     },
     "execution_count": 2,
     "metadata": {},
     "output_type": "execute_result"
    }
   ],
   "source": [
    "heros_played = matches_df['hero_name'].unique()\n",
    "hero_stats = pd.DataFrame()\n",
    "\n",
    "for hero in heros_played:\n",
    "    selected_hero_stats = pd.DataFrame()\n",
    "\n",
    "    selected_hero = matches_df[matches_df.hero_name == hero]\n",
    "\n",
    "    selected_hero_stats['hero_name'] = [hero]\n",
    "    selected_hero_stats['total_games'] = [selected_hero.shape[0]]\n",
    "    selected_hero_stats['wins'] = [selected_hero[selected_hero.player_win == True].shape[0]]\n",
    "    selected_hero_stats['losses'] = [selected_hero[selected_hero.player_win == False].shape[0]]\n",
    "    \n",
    "    selected_hero_stats['average_kills'] = [round(selected_hero.kills.mean(), 2)]\n",
    "    selected_hero_stats['average_deaths'] = [round(selected_hero.deaths.mean(), 2)]\n",
    "    selected_hero_stats['average_assists'] = [round(selected_hero.assists.mean(), 2)]\n",
    "\n",
    "    selected_hero_stats['hero_name_winloss'] = [hero + '  [ WR:' + str(round(selected_hero_stats['wins'][0] / selected_hero_stats['total_games'][0] * 100)) + '% ]']\n",
    "\n",
    "    hero_stats = hero_stats.append(selected_hero_stats, ignore_index=True)\n",
    "\n",
    "hero_stats[:5]"
   ]
  },
  {
   "cell_type": "code",
   "execution_count": 3,
   "metadata": {},
   "outputs": [
    {
     "data": {
      "text/html": [
       "<div>\n",
       "<style scoped>\n",
       "    .dataframe tbody tr th:only-of-type {\n",
       "        vertical-align: middle;\n",
       "    }\n",
       "\n",
       "    .dataframe tbody tr th {\n",
       "        vertical-align: top;\n",
       "    }\n",
       "\n",
       "    .dataframe thead th {\n",
       "        text-align: right;\n",
       "    }\n",
       "</style>\n",
       "<table border=\"1\" class=\"dataframe\">\n",
       "  <thead>\n",
       "    <tr style=\"text-align: right;\">\n",
       "      <th></th>\n",
       "      <th>hero_name</th>\n",
       "      <th>total_games</th>\n",
       "      <th>wins</th>\n",
       "      <th>losses</th>\n",
       "      <th>average_kills</th>\n",
       "      <th>average_deaths</th>\n",
       "      <th>average_assists</th>\n",
       "      <th>hero_name_winloss</th>\n",
       "    </tr>\n",
       "  </thead>\n",
       "  <tbody>\n",
       "    <tr>\n",
       "      <th>5</th>\n",
       "      <td>Outworld Devourer</td>\n",
       "      <td>144</td>\n",
       "      <td>85</td>\n",
       "      <td>59</td>\n",
       "      <td>12.47</td>\n",
       "      <td>6.26</td>\n",
       "      <td>10.91</td>\n",
       "      <td>Outworld Devourer  [ WR:59% ]</td>\n",
       "    </tr>\n",
       "    <tr>\n",
       "      <th>9</th>\n",
       "      <td>Bristleback</td>\n",
       "      <td>54</td>\n",
       "      <td>44</td>\n",
       "      <td>10</td>\n",
       "      <td>8.33</td>\n",
       "      <td>6.20</td>\n",
       "      <td>16.57</td>\n",
       "      <td>Bristleback  [ WR:81% ]</td>\n",
       "    </tr>\n",
       "    <tr>\n",
       "      <th>38</th>\n",
       "      <td>Techies</td>\n",
       "      <td>47</td>\n",
       "      <td>24</td>\n",
       "      <td>23</td>\n",
       "      <td>8.94</td>\n",
       "      <td>8.11</td>\n",
       "      <td>6.94</td>\n",
       "      <td>Techies  [ WR:51% ]</td>\n",
       "    </tr>\n",
       "    <tr>\n",
       "      <th>22</th>\n",
       "      <td>Nature's Prophet</td>\n",
       "      <td>43</td>\n",
       "      <td>20</td>\n",
       "      <td>23</td>\n",
       "      <td>5.02</td>\n",
       "      <td>8.42</td>\n",
       "      <td>11.05</td>\n",
       "      <td>Nature's Prophet  [ WR:47% ]</td>\n",
       "    </tr>\n",
       "    <tr>\n",
       "      <th>20</th>\n",
       "      <td>Medusa</td>\n",
       "      <td>43</td>\n",
       "      <td>25</td>\n",
       "      <td>18</td>\n",
       "      <td>7.44</td>\n",
       "      <td>4.02</td>\n",
       "      <td>13.30</td>\n",
       "      <td>Medusa  [ WR:58% ]</td>\n",
       "    </tr>\n",
       "    <tr>\n",
       "      <th>61</th>\n",
       "      <td>Omniknight</td>\n",
       "      <td>43</td>\n",
       "      <td>28</td>\n",
       "      <td>15</td>\n",
       "      <td>2.88</td>\n",
       "      <td>6.19</td>\n",
       "      <td>12.30</td>\n",
       "      <td>Omniknight  [ WR:65% ]</td>\n",
       "    </tr>\n",
       "    <tr>\n",
       "      <th>47</th>\n",
       "      <td>Enigma</td>\n",
       "      <td>41</td>\n",
       "      <td>23</td>\n",
       "      <td>18</td>\n",
       "      <td>3.95</td>\n",
       "      <td>6.76</td>\n",
       "      <td>15.46</td>\n",
       "      <td>Enigma  [ WR:56% ]</td>\n",
       "    </tr>\n",
       "    <tr>\n",
       "      <th>56</th>\n",
       "      <td>Templar Assassin</td>\n",
       "      <td>40</td>\n",
       "      <td>17</td>\n",
       "      <td>23</td>\n",
       "      <td>8.52</td>\n",
       "      <td>5.35</td>\n",
       "      <td>9.02</td>\n",
       "      <td>Templar Assassin  [ WR:42% ]</td>\n",
       "    </tr>\n",
       "    <tr>\n",
       "      <th>16</th>\n",
       "      <td>Phantom Assassin</td>\n",
       "      <td>36</td>\n",
       "      <td>19</td>\n",
       "      <td>17</td>\n",
       "      <td>9.97</td>\n",
       "      <td>6.72</td>\n",
       "      <td>10.42</td>\n",
       "      <td>Phantom Assassin  [ WR:53% ]</td>\n",
       "    </tr>\n",
       "    <tr>\n",
       "      <th>57</th>\n",
       "      <td>Pudge</td>\n",
       "      <td>35</td>\n",
       "      <td>16</td>\n",
       "      <td>19</td>\n",
       "      <td>7.06</td>\n",
       "      <td>8.94</td>\n",
       "      <td>9.20</td>\n",
       "      <td>Pudge  [ WR:46% ]</td>\n",
       "    </tr>\n",
       "    <tr>\n",
       "      <th>4</th>\n",
       "      <td>Ogre Magi</td>\n",
       "      <td>35</td>\n",
       "      <td>18</td>\n",
       "      <td>17</td>\n",
       "      <td>6.14</td>\n",
       "      <td>7.69</td>\n",
       "      <td>16.60</td>\n",
       "      <td>Ogre Magi  [ WR:51% ]</td>\n",
       "    </tr>\n",
       "    <tr>\n",
       "      <th>27</th>\n",
       "      <td>Keeper of the Light</td>\n",
       "      <td>34</td>\n",
       "      <td>15</td>\n",
       "      <td>19</td>\n",
       "      <td>4.06</td>\n",
       "      <td>6.94</td>\n",
       "      <td>13.06</td>\n",
       "      <td>Keeper of the Light  [ WR:44% ]</td>\n",
       "    </tr>\n",
       "    <tr>\n",
       "      <th>73</th>\n",
       "      <td>Invoker</td>\n",
       "      <td>31</td>\n",
       "      <td>14</td>\n",
       "      <td>17</td>\n",
       "      <td>6.42</td>\n",
       "      <td>7.29</td>\n",
       "      <td>12.42</td>\n",
       "      <td>Invoker  [ WR:45% ]</td>\n",
       "    </tr>\n",
       "    <tr>\n",
       "      <th>3</th>\n",
       "      <td>Shadow Shaman</td>\n",
       "      <td>31</td>\n",
       "      <td>19</td>\n",
       "      <td>12</td>\n",
       "      <td>3.77</td>\n",
       "      <td>9.55</td>\n",
       "      <td>13.06</td>\n",
       "      <td>Shadow Shaman  [ WR:61% ]</td>\n",
       "    </tr>\n",
       "    <tr>\n",
       "      <th>25</th>\n",
       "      <td>Spirit Breaker</td>\n",
       "      <td>30</td>\n",
       "      <td>19</td>\n",
       "      <td>11</td>\n",
       "      <td>6.93</td>\n",
       "      <td>7.67</td>\n",
       "      <td>18.90</td>\n",
       "      <td>Spirit Breaker  [ WR:63% ]</td>\n",
       "    </tr>\n",
       "    <tr>\n",
       "      <th>77</th>\n",
       "      <td>Clinkz</td>\n",
       "      <td>25</td>\n",
       "      <td>14</td>\n",
       "      <td>11</td>\n",
       "      <td>9.40</td>\n",
       "      <td>6.76</td>\n",
       "      <td>9.16</td>\n",
       "      <td>Clinkz  [ WR:56% ]</td>\n",
       "    </tr>\n",
       "    <tr>\n",
       "      <th>7</th>\n",
       "      <td>Io</td>\n",
       "      <td>25</td>\n",
       "      <td>19</td>\n",
       "      <td>6</td>\n",
       "      <td>1.16</td>\n",
       "      <td>6.12</td>\n",
       "      <td>21.04</td>\n",
       "      <td>Io  [ WR:76% ]</td>\n",
       "    </tr>\n",
       "    <tr>\n",
       "      <th>49</th>\n",
       "      <td>Lion</td>\n",
       "      <td>25</td>\n",
       "      <td>14</td>\n",
       "      <td>11</td>\n",
       "      <td>7.28</td>\n",
       "      <td>9.56</td>\n",
       "      <td>10.84</td>\n",
       "      <td>Lion  [ WR:56% ]</td>\n",
       "    </tr>\n",
       "    <tr>\n",
       "      <th>19</th>\n",
       "      <td>Axe</td>\n",
       "      <td>24</td>\n",
       "      <td>13</td>\n",
       "      <td>11</td>\n",
       "      <td>9.00</td>\n",
       "      <td>8.17</td>\n",
       "      <td>12.12</td>\n",
       "      <td>Axe  [ WR:54% ]</td>\n",
       "    </tr>\n",
       "    <tr>\n",
       "      <th>10</th>\n",
       "      <td>Troll Warlord</td>\n",
       "      <td>23</td>\n",
       "      <td>15</td>\n",
       "      <td>8</td>\n",
       "      <td>10.57</td>\n",
       "      <td>7.96</td>\n",
       "      <td>12.87</td>\n",
       "      <td>Troll Warlord  [ WR:65% ]</td>\n",
       "    </tr>\n",
       "    <tr>\n",
       "      <th>48</th>\n",
       "      <td>Warlock</td>\n",
       "      <td>23</td>\n",
       "      <td>17</td>\n",
       "      <td>6</td>\n",
       "      <td>4.35</td>\n",
       "      <td>7.43</td>\n",
       "      <td>19.48</td>\n",
       "      <td>Warlock  [ WR:74% ]</td>\n",
       "    </tr>\n",
       "    <tr>\n",
       "      <th>51</th>\n",
       "      <td>Sniper</td>\n",
       "      <td>23</td>\n",
       "      <td>9</td>\n",
       "      <td>14</td>\n",
       "      <td>9.39</td>\n",
       "      <td>9.61</td>\n",
       "      <td>12.61</td>\n",
       "      <td>Sniper  [ WR:39% ]</td>\n",
       "    </tr>\n",
       "    <tr>\n",
       "      <th>66</th>\n",
       "      <td>Legion Commander</td>\n",
       "      <td>20</td>\n",
       "      <td>13</td>\n",
       "      <td>7</td>\n",
       "      <td>7.25</td>\n",
       "      <td>5.60</td>\n",
       "      <td>13.60</td>\n",
       "      <td>Legion Commander  [ WR:65% ]</td>\n",
       "    </tr>\n",
       "    <tr>\n",
       "      <th>39</th>\n",
       "      <td>Anti-Mage</td>\n",
       "      <td>20</td>\n",
       "      <td>11</td>\n",
       "      <td>9</td>\n",
       "      <td>6.85</td>\n",
       "      <td>4.75</td>\n",
       "      <td>9.05</td>\n",
       "      <td>Anti-Mage  [ WR:55% ]</td>\n",
       "    </tr>\n",
       "    <tr>\n",
       "      <th>55</th>\n",
       "      <td>Bounty Hunter</td>\n",
       "      <td>20</td>\n",
       "      <td>13</td>\n",
       "      <td>7</td>\n",
       "      <td>6.25</td>\n",
       "      <td>6.60</td>\n",
       "      <td>8.10</td>\n",
       "      <td>Bounty Hunter  [ WR:65% ]</td>\n",
       "    </tr>\n",
       "  </tbody>\n",
       "</table>\n",
       "</div>"
      ],
      "text/plain": [
       "              hero_name  total_games  wins  losses  average_kills  \\\n",
       "5     Outworld Devourer          144    85      59          12.47   \n",
       "9           Bristleback           54    44      10           8.33   \n",
       "38              Techies           47    24      23           8.94   \n",
       "22     Nature's Prophet           43    20      23           5.02   \n",
       "20               Medusa           43    25      18           7.44   \n",
       "61           Omniknight           43    28      15           2.88   \n",
       "47               Enigma           41    23      18           3.95   \n",
       "56     Templar Assassin           40    17      23           8.52   \n",
       "16     Phantom Assassin           36    19      17           9.97   \n",
       "57                Pudge           35    16      19           7.06   \n",
       "4             Ogre Magi           35    18      17           6.14   \n",
       "27  Keeper of the Light           34    15      19           4.06   \n",
       "73              Invoker           31    14      17           6.42   \n",
       "3         Shadow Shaman           31    19      12           3.77   \n",
       "25       Spirit Breaker           30    19      11           6.93   \n",
       "77               Clinkz           25    14      11           9.40   \n",
       "7                    Io           25    19       6           1.16   \n",
       "49                 Lion           25    14      11           7.28   \n",
       "19                  Axe           24    13      11           9.00   \n",
       "10        Troll Warlord           23    15       8          10.57   \n",
       "48              Warlock           23    17       6           4.35   \n",
       "51               Sniper           23     9      14           9.39   \n",
       "66     Legion Commander           20    13       7           7.25   \n",
       "39            Anti-Mage           20    11       9           6.85   \n",
       "55        Bounty Hunter           20    13       7           6.25   \n",
       "\n",
       "    average_deaths  average_assists                hero_name_winloss  \n",
       "5             6.26            10.91    Outworld Devourer  [ WR:59% ]  \n",
       "9             6.20            16.57          Bristleback  [ WR:81% ]  \n",
       "38            8.11             6.94              Techies  [ WR:51% ]  \n",
       "22            8.42            11.05     Nature's Prophet  [ WR:47% ]  \n",
       "20            4.02            13.30               Medusa  [ WR:58% ]  \n",
       "61            6.19            12.30           Omniknight  [ WR:65% ]  \n",
       "47            6.76            15.46               Enigma  [ WR:56% ]  \n",
       "56            5.35             9.02     Templar Assassin  [ WR:42% ]  \n",
       "16            6.72            10.42     Phantom Assassin  [ WR:53% ]  \n",
       "57            8.94             9.20                Pudge  [ WR:46% ]  \n",
       "4             7.69            16.60            Ogre Magi  [ WR:51% ]  \n",
       "27            6.94            13.06  Keeper of the Light  [ WR:44% ]  \n",
       "73            7.29            12.42              Invoker  [ WR:45% ]  \n",
       "3             9.55            13.06        Shadow Shaman  [ WR:61% ]  \n",
       "25            7.67            18.90       Spirit Breaker  [ WR:63% ]  \n",
       "77            6.76             9.16               Clinkz  [ WR:56% ]  \n",
       "7             6.12            21.04                   Io  [ WR:76% ]  \n",
       "49            9.56            10.84                 Lion  [ WR:56% ]  \n",
       "19            8.17            12.12                  Axe  [ WR:54% ]  \n",
       "10            7.96            12.87        Troll Warlord  [ WR:65% ]  \n",
       "48            7.43            19.48              Warlock  [ WR:74% ]  \n",
       "51            9.61            12.61               Sniper  [ WR:39% ]  \n",
       "66            5.60            13.60     Legion Commander  [ WR:65% ]  \n",
       "39            4.75             9.05            Anti-Mage  [ WR:55% ]  \n",
       "55            6.60             8.10        Bounty Hunter  [ WR:65% ]  "
      ]
     },
     "execution_count": 3,
     "metadata": {},
     "output_type": "execute_result"
    }
   ],
   "source": [
    "most_played = hero_stats.sort_values('total_games', ascending=False)[:25]\n",
    "most_played"
   ]
  },
  {
   "cell_type": "code",
   "execution_count": 4,
   "metadata": {},
   "outputs": [
    {
     "data": {
      "text/plain": [
       "<matplotlib.legend.Legend at 0x13fff2f1400>"
      ]
     },
     "execution_count": 4,
     "metadata": {},
     "output_type": "execute_result"
    },
    {
     "data": {
      "image/png": "[encoded data removed]",
      "text/plain": [
       "<Figure size 1080x432 with 1 Axes>"
      ]
     },
     "metadata": {
      "needs_background": "light"
     },
     "output_type": "display_data"
    }
   ],
   "source": [
    "most_played = hero_stats.sort_values('total_games', ascending=False)[:25]\n",
    "winloss_top25 = most_played[['hero_name_winloss', 'losses', 'wins']]\n",
    "\n",
    "ax = winloss_top25.plot(kind='bar', stacked=True, color=['r','g'], x='hero_name_winloss', figsize=(15,6))\n",
    "\n",
    "for container in ax.containers:\n",
    "\n",
    "  labels = []\n",
    "  for value in container:\n",
    "    rounded_val = round(value.get_height(), 0)\n",
    "\n",
    "    if(rounded_val > 0):\n",
    "      labels.append(int(rounded_val)) \n",
    "    else:\n",
    "      labels.append('')\n",
    "\n",
    "  ax.bar_label(container, labels=labels, label_type='center')\n",
    "\n",
    "plt.title('Win-Loss Ratio For Top 25 Most Played Heroes', fontsize=16)\n",
    "plt.xlabel('Hero [Win Rate]', fontsize=12)\n",
    "plt.ylabel('Total Games Played', fontsize=12)\n",
    "plt.legend(['Losses', 'Wins'])\n"
   ]
  },
  {
   "cell_type": "code",
   "execution_count": 5,
   "metadata": {},
   "outputs": [
    {
     "data": {
      "text/plain": [
       "Text(0, 0.5, 'Party Size')"
      ]
     },
     "execution_count": 5,
     "metadata": {},
     "output_type": "execute_result"
    },
    {
     "data": {
      "image/png": "[encoded data removed]",
      "text/plain": [
       "<Figure size 720x288 with 1 Axes>"
      ]
     },
     "metadata": {
      "needs_background": "light"
     },
     "output_type": "display_data"
    }
   ],
   "source": [
    "plt.figure(figsize = (10,4))\n",
    "ax = sns.countplot(data=matches_df[matches_df.party_size.between(1,5)], y='party_size')\n",
    "ax = ax.bar_label(ax.containers[0])\n",
    "\n",
    "plt.title('# of People in Group When Queueing for Game', fontsize=16)\n",
    "plt.xlabel('# of Games', fontsize=12)\n",
    "plt.ylabel('Party Size', fontsize=12)"
   ]
  },
  {
   "cell_type": "code",
   "execution_count": 6,
   "metadata": {},
   "outputs": [
    {
     "data": {
      "text/plain": [
       "Text(0, 0.5, '')"
      ]
     },
     "execution_count": 6,
     "metadata": {},
     "output_type": "execute_result"
    },
    {
     "data": {
      "image/png": "[encoded data removed]",
      "text/plain": [
       "<Figure size 720x288 with 1 Axes>"
      ]
     },
     "metadata": {
      "needs_background": "light"
     },
     "output_type": "display_data"
    }
   ],
   "source": [
    "days_order = {'Sunday' : 0, 'Monday' : 1, 'Tuesday' : 2, 'Wednesday' : 3, 'Thursday' : 4, 'Friday' : 5, 'Saturday' : 6}\n",
    "matches_df['day_id'] = matches_df['day_of_week'].map(days_order)\n",
    "plt.figure(figsize = (10,4))\n",
    "ax = sns.countplot(data=matches_df.sort_values('day_id'), y='day_of_week')\n",
    "ax = ax.bar_label(ax.containers[0])\n",
    "\n",
    "plt.title('# of Games Played For Each Day of Week', fontsize=16)\n",
    "plt.xlabel('# of Games', fontsize=12)\n",
    "plt.ylabel('')"
   ]
  },
  {
   "cell_type": "code",
   "execution_count": 7,
   "metadata": {},
   "outputs": [
    {
     "data": {
      "text/plain": [
       "<matplotlib.legend.Legend at 0x13fff419070>"
      ]
     },
     "execution_count": 7,
     "metadata": {},
     "output_type": "execute_result"
    },
    {
     "data": {
      "image/png": "[encoded data removed]",
      "text/plain": [
       "<Figure size 1080x432 with 1 Axes>"
      ]
     },
     "metadata": {
      "needs_background": "light"
     },
     "output_type": "display_data"
    }
   ],
   "source": [
    "most_played = hero_stats.sort_values('total_games', ascending=False)[:25]\n",
    "kda_top25 = most_played[['hero_name','average_kills','average_deaths', 'average_assists']]\n",
    "kda_top25 = kda_top25.sort_values('average_kills', ascending=False)[:25]\n",
    "\n",
    "ax = kda_top25.plot(kind='bar', stacked=True, color=['g','r','y'], x='hero_name', figsize=(15,6))\n",
    "\n",
    "for container in ax.containers:\n",
    "\n",
    "  labels = []\n",
    "  for value in container:\n",
    "    rounded_val = round(value.get_height(), 1)\n",
    "\n",
    "    if(rounded_val > 0):\n",
    "      labels.append(rounded_val) \n",
    "    else:\n",
    "      labels.append('')\n",
    "\n",
    "  ax.bar_label(container, labels=labels, label_type='center')\n",
    "\n",
    "plt.title('Average Kill-Death-Assists Ratio For Top 25 Most Played Heroes', fontsize=16)\n",
    "plt.xlabel('Hero', fontsize=12)\n",
    "plt.ylabel('Total KDA', fontsize=12)\n",
    "plt.legend(['Average Kills', 'Average Deaths', 'Average Assists'])"
   ]
  },
  {
   "cell_type": "code",
   "execution_count": 8,
   "metadata": {},
   "outputs": [
    {
     "data": {
      "text/plain": [
       "Index(['Unnamed: 0', 'match_id', 'player_slot', 'radiant_win', 'duration',\n",
       "       'game_mode', 'lobby_type', 'hero_id', 'start_time', 'version', 'kills',\n",
       "       'deaths', 'assists', 'skill', 'xp_per_min', 'gold_per_min',\n",
       "       'hero_damage', 'tower_damage', 'hero_healing', 'last_hits', 'lane',\n",
       "       'lane_role', 'is_roaming', 'cluster', 'leaver_status', 'party_size',\n",
       "       'hero_name', 'player_side', 'player_win'],\n",
       "      dtype='object')"
      ]
     },
     "execution_count": 8,
     "metadata": {},
     "output_type": "execute_result"
    }
   ],
   "source": [
    "rc_matches_df.columns"
   ]
  },
  {
   "cell_type": "code",
   "execution_count": 9,
   "metadata": {},
   "outputs": [
    {
     "data": {
      "application/vnd.plotly.v1+json": {
       "config": {
        "plotlyServerURL": "https://plot.ly"
       },
       "data": [
        {
         "name": "Winning Games",
         "type": "bar",
         "x": [
          "Chaos Knight",
          "Mars",
          "Ogre Magi",
          "Outworld Devourer",
          "Primal Beast",
          "Shadow Shaman",
          "Snapfire"
         ],
         "y": [
          499,
          408,
          243,
          526,
          443,
          303,
          508
         ]
        },
        {
         "name": "Losing Games",
         "type": "bar",
         "x": [
          "Chaos Knight",
          "Io",
          "Mars",
          "Ogre Magi",
          "Primal Beast",
          "Shadow Shaman",
          "Snapfire"
         ],
         "y": [
          357.5,
          233,
          358,
          382.5,
          162,
          222,
          453
         ]
        }
       ],
       "layout": {
        "template": {
         "data": {
          "bar": [
           {
            "error_x": {
             "color": "#2a3f5f"
            },
            "error_y": {
             "color": "#2a3f5f"
            },
            "marker": {
             "line": {
              "color": "#E5ECF6",
              "width": 0.5
             },
             "pattern": {
              "fillmode": "overlay",
              "size": 10,
              "solidity": 0.2
             }
            },
            "type": "bar"
           }
          ],
          "barpolar": [
           {
            "marker": {
             "line": {
              "color": "#E5ECF6",
              "width": 0.5
             },
             "pattern": {
              "fillmode": "overlay",
              "size": 10,
              "solidity": 0.2
             }
            },
            "type": "barpolar"
           }
          ],
          "carpet": [
           {
            "aaxis": {
             "endlinecolor": "#2a3f5f",
             "gridcolor": "white",
             "linecolor": "white",
             "minorgridcolor": "white",
             "startlinecolor": "#2a3f5f"
            },
            "baxis": {
             "endlinecolor": "#2a3f5f",
             "gridcolor": "white",
             "linecolor": "white",
             "minorgridcolor": "white",
             "startlinecolor": "#2a3f5f"
            },
            "type": "carpet"
           }
          ],
          "choropleth": [
           {
            "colorbar": {
             "outlinewidth": 0,
             "ticks": ""
            },
            "type": "choropleth"
           }
          ],
          "contour": [
           {
            "colorbar": {
             "outlinewidth": 0,
             "ticks": ""
            },
            "colorscale": [
             [
              0,
              "#0d0887"
             ],
             [
              0.1111111111111111,
              "#46039f"
             ],
             [
              0.2222222222222222,
              "#7201a8"
             ],
             [
              0.3333333333333333,
              "#9c179e"
             ],
             [
              0.4444444444444444,
              "#bd3786"
             ],
             [
              0.5555555555555556,
              "#d8576b"
             ],
             [
              0.6666666666666666,
              "#ed7953"
             ],
             [
              0.7777777777777778,
              "#fb9f3a"
             ],
             [
              0.8888888888888888,
              "#fdca26"
             ],
             [
              1,
              "#f0f921"
             ]
            ],
            "type": "contour"
           }
          ],
          "contourcarpet": [
           {
            "colorbar": {
             "outlinewidth": 0,
             "ticks": ""
            },
            "type": "contourcarpet"
           }
          ],
          "heatmap": [
           {
            "colorbar": {
             "outlinewidth": 0,
             "ticks": ""
            },
            "colorscale": [
             [
              0,
              "#0d0887"
             ],
             [
              0.1111111111111111,
              "#46039f"
             ],
             [
              0.2222222222222222,
              "#7201a8"
             ],
             [
              0.3333333333333333,
              "#9c179e"
             ],
             [
              0.4444444444444444,
              "#bd3786"
             ],
             [
              0.5555555555555556,
              "#d8576b"
             ],
             [
              0.6666666666666666,
              "#ed7953"
             ],
             [
              0.7777777777777778,
              "#fb9f3a"
             ],
             [
              0.8888888888888888,
              "#fdca26"
             ],
             [
              1,
              "#f0f921"
             ]
            ],
            "type": "heatmap"
           }
          ],
          "heatmapgl": [
           {
            "colorbar": {
             "outlinewidth": 0,
             "ticks": ""
            },
            "colorscale": [
             [
              0,
              "#0d0887"
             ],
             [
              0.1111111111111111,
              "#46039f"
             ],
             [
              0.2222222222222222,
              "#7201a8"
             ],
             [
              0.3333333333333333,
              "#9c179e"
             ],
             [
              0.4444444444444444,
              "#bd3786"
             ],
             [
              0.5555555555555556,
              "#d8576b"
             ],
             [
              0.6666666666666666,
              "#ed7953"
             ],
             [
              0.7777777777777778,
              "#fb9f3a"
             ],
             [
              0.8888888888888888,
              "#fdca26"
             ],
             [
              1,
              "#f0f921"
             ]
            ],
            "type": "heatmapgl"
           }
          ],
          "histogram": [
           {
            "marker": {
             "pattern": {
              "fillmode": "overlay",
              "size": 10,
              "solidity": 0.2
             }
            },
            "type": "histogram"
           }
          ],
          "histogram2d": [
           {
            "colorbar": {
             "outlinewidth": 0,
             "ticks": ""
            },
            "colorscale": [
             [
              0,
              "#0d0887"
             ],
             [
              0.1111111111111111,
              "#46039f"
             ],
             [
              0.2222222222222222,
              "#7201a8"
             ],
             [
              0.3333333333333333,
              "#9c179e"
             ],
             [
              0.4444444444444444,
              "#bd3786"
             ],
             [
              0.5555555555555556,
              "#d8576b"
             ],
             [
              0.6666666666666666,
              "#ed7953"
             ],
             [
              0.7777777777777778,
              "#fb9f3a"
             ],
             [
              0.8888888888888888,
              "#fdca26"
             ],
             [
              1,
              "#f0f921"
             ]
            ],
            "type": "histogram2d"
           }
          ],
          "histogram2dcontour": [
           {
            "colorbar": {
             "outlinewidth": 0,
             "ticks": ""
            },
            "colorscale": [
             [
              0,
              "#0d0887"
             ],
             [
              0.1111111111111111,
              "#46039f"
             ],
             [
              0.2222222222222222,
              "#7201a8"
             ],
             [
              0.3333333333333333,
              "#9c179e"
             ],
             [
              0.4444444444444444,
              "#bd3786"
             ],
             [
              0.5555555555555556,
              "#d8576b"
             ],
             [
              0.6666666666666666,
              "#ed7953"
             ],
             [
              0.7777777777777778,
              "#fb9f3a"
             ],
             [
              0.8888888888888888,
              "#fdca26"
             ],
             [
              1,
              "#f0f921"
             ]
            ],
            "type": "histogram2dcontour"
           }
          ],
          "mesh3d": [
           {
            "colorbar": {
             "outlinewidth": 0,
             "ticks": ""
            },
            "type": "mesh3d"
           }
          ],
          "parcoords": [
           {
            "line": {
             "colorbar": {
              "outlinewidth": 0,
              "ticks": ""
             }
            },
            "type": "parcoords"
           }
          ],
          "pie": [
           {
            "automargin": true,
            "type": "pie"
           }
          ],
          "scatter": [
           {
            "fillpattern": {
             "fillmode": "overlay",
             "size": 10,
             "solidity": 0.2
            },
            "type": "scatter"
           }
          ],
          "scatter3d": [
           {
            "line": {
             "colorbar": {
              "outlinewidth": 0,
              "ticks": ""
             }
            },
            "marker": {
             "colorbar": {
              "outlinewidth": 0,
              "ticks": ""
             }
            },
            "type": "scatter3d"
           }
          ],
          "scattercarpet": [
           {
            "marker": {
             "colorbar": {
              "outlinewidth": 0,
              "ticks": ""
             }
            },
            "type": "scattercarpet"
           }
          ],
          "scattergeo": [
           {
            "marker": {
             "colorbar": {
              "outlinewidth": 0,
              "ticks": ""
             }
            },
            "type": "scattergeo"
           }
          ],
          "scattergl": [
           {
            "marker": {
             "colorbar": {
              "outlinewidth": 0,
              "ticks": ""
             }
            },
            "type": "scattergl"
           }
          ],
          "scattermapbox": [
           {
            "marker": {
             "colorbar": {
              "outlinewidth": 0,
              "ticks": ""
             }
            },
            "type": "scattermapbox"
           }
          ],
          "scatterpolar": [
           {
            "marker": {
             "colorbar": {
              "outlinewidth": 0,
              "ticks": ""
             }
            },
            "type": "scatterpolar"
           }
          ],
          "scatterpolargl": [
           {
            "marker": {
             "colorbar": {
              "outlinewidth": 0,
              "ticks": ""
             }
            },
            "type": "scatterpolargl"
           }
          ],
          "scatterternary": [
           {
            "marker": {
             "colorbar": {
              "outlinewidth": 0,
              "ticks": ""
             }
            },
            "type": "scatterternary"
           }
          ],
          "surface": [
           {
            "colorbar": {
             "outlinewidth": 0,
             "ticks": ""
            },
            "colorscale": [
             [
              0,
              "#0d0887"
             ],
             [
              0.1111111111111111,
              "#46039f"
             ],
             [
              0.2222222222222222,
              "#7201a8"
             ],
             [
              0.3333333333333333,
              "#9c179e"
             ],
             [
              0.4444444444444444,
              "#bd3786"
             ],
             [
              0.5555555555555556,
              "#d8576b"
             ],
             [
              0.6666666666666666,
              "#ed7953"
             ],
             [
              0.7777777777777778,
              "#fb9f3a"
             ],
             [
              0.8888888888888888,
              "#fdca26"
             ],
             [
              1,
              "#f0f921"
             ]
            ],
            "type": "surface"
           }
          ],
          "table": [
           {
            "cells": {
             "fill": {
              "color": "#EBF0F8"
             },
             "line": {
              "color": "white"
             }
            },
            "header": {
             "fill": {
              "color": "#C8D4E3"
             },
             "line": {
              "color": "white"
             }
            },
            "type": "table"
           }
          ]
         },
         "layout": {
          "annotationdefaults": {
           "arrowcolor": "#2a3f5f",
           "arrowhead": 0,
           "arrowwidth": 1
          },
          "autotypenumbers": "strict",
          "coloraxis": {
           "colorbar": {
            "outlinewidth": 0,
            "ticks": ""
           }
          },
          "colorscale": {
           "diverging": [
            [
             0,
             "#8e0152"
            ],
            [
             0.1,
             "#c51b7d"
            ],
            [
             0.2,
             "#de77ae"
            ],
            [
             0.3,
             "#f1b6da"
            ],
            [
             0.4,
             "#fde0ef"
            ],
            [
             0.5,
             "#f7f7f7"
            ],
            [
             0.6,
             "#e6f5d0"
            ],
            [
             0.7,
             "#b8e186"
            ],
            [
             0.8,
             "#7fbc41"
            ],
            [
             0.9,
             "#4d9221"
            ],
            [
             1,
             "#276419"
            ]
           ],
           "sequential": [
            [
             0,
             "#0d0887"
            ],
            [
             0.1111111111111111,
             "#46039f"
            ],
            [
             0.2222222222222222,
             "#7201a8"
            ],
            [
             0.3333333333333333,
             "#9c179e"
            ],
            [
             0.4444444444444444,
             "#bd3786"
            ],
            [
             0.5555555555555556,
             "#d8576b"
            ],
            [
             0.6666666666666666,
             "#ed7953"
            ],
            [
             0.7777777777777778,
             "#fb9f3a"
            ],
            [
             0.8888888888888888,
             "#fdca26"
            ],
            [
             1,
             "#f0f921"
            ]
           ],
           "sequentialminus": [
            [
             0,
             "#0d0887"
            ],
            [
             0.1111111111111111,
             "#46039f"
            ],
            [
             0.2222222222222222,
             "#7201a8"
            ],
            [
             0.3333333333333333,
             "#9c179e"
            ],
            [
             0.4444444444444444,
             "#bd3786"
            ],
            [
             0.5555555555555556,
             "#d8576b"
            ],
            [
             0.6666666666666666,
             "#ed7953"
            ],
            [
             0.7777777777777778,
             "#fb9f3a"
            ],
            [
             0.8888888888888888,
             "#fdca26"
            ],
            [
             1,
             "#f0f921"
            ]
           ]
          },
          "colorway": [
           "#636efa",
           "#EF553B",
           "#00cc96",
           "#ab63fa",
           "#FFA15A",
           "#19d3f3",
           "#FF6692",
           "#B6E880",
           "#FF97FF",
           "#FECB52"
          ],
          "font": {
           "color": "#2a3f5f"
          },
          "geo": {
           "bgcolor": "white",
           "lakecolor": "white",
           "landcolor": "#E5ECF6",
           "showlakes": true,
           "showland": true,
           "subunitcolor": "white"
          },
          "hoverlabel": {
           "align": "left"
          },
          "hovermode": "closest",
          "mapbox": {
           "style": "light"
          },
          "paper_bgcolor": "white",
          "plot_bgcolor": "#E5ECF6",
          "polar": {
           "angularaxis": {
            "gridcolor": "white",
            "linecolor": "white",
            "ticks": ""
           },
           "bgcolor": "#E5ECF6",
           "radialaxis": {
            "gridcolor": "white",
            "linecolor": "white",
            "ticks": ""
           }
          },
          "scene": {
           "xaxis": {
            "backgroundcolor": "#E5ECF6",
            "gridcolor": "white",
            "gridwidth": 2,
            "linecolor": "white",
            "showbackground": true,
            "ticks": "",
            "zerolinecolor": "white"
           },
           "yaxis": {
            "backgroundcolor": "#E5ECF6",
            "gridcolor": "white",
            "gridwidth": 2,
            "linecolor": "white",
            "showbackground": true,
            "ticks": "",
            "zerolinecolor": "white"
           },
           "zaxis": {
            "backgroundcolor": "#E5ECF6",
            "gridcolor": "white",
            "gridwidth": 2,
            "linecolor": "white",
            "showbackground": true,
            "ticks": "",
            "zerolinecolor": "white"
           }
          },
          "shapedefaults": {
           "line": {
            "color": "#2a3f5f"
           }
          },
          "ternary": {
           "aaxis": {
            "gridcolor": "white",
            "linecolor": "white",
            "ticks": ""
           },
           "baxis": {
            "gridcolor": "white",
            "linecolor": "white",
            "ticks": ""
           },
           "bgcolor": "#E5ECF6",
           "caxis": {
            "gridcolor": "white",
            "linecolor": "white",
            "ticks": ""
           }
          },
          "title": {
           "x": 0.05
          },
          "xaxis": {
           "automargin": true,
           "gridcolor": "white",
           "linecolor": "white",
           "ticks": "",
           "title": {
            "standoff": 15
           },
           "zerolinecolor": "white",
           "zerolinewidth": 2
          },
          "yaxis": {
           "automargin": true,
           "gridcolor": "white",
           "linecolor": "white",
           "ticks": "",
           "title": {
            "standoff": 15
           },
           "zerolinecolor": "white",
           "zerolinewidth": 2
          }
         }
        },
        "title": {
         "text": "Gold Per Minute in Last 20 Games Per Hero, Win vs Loss"
        }
       }
      }
     },
     "metadata": {},
     "output_type": "display_data"
    }
   ],
   "source": [
    "win_rc_matches = rc_matches_df[rc_matches_df.player_win == True]\n",
    "loss_rc_matches = rc_matches_df[rc_matches_df.player_win == False]\n",
    "\n",
    "gpm_win_rc_matches = pd.DataFrame(win_rc_matches.groupby(['hero_name'])['gold_per_min'].mean()).reset_index()\n",
    "gpm_loss_rc_matches = pd.DataFrame(loss_rc_matches.groupby(['hero_name'])['gold_per_min'].mean()).reset_index()\n",
    "gpm_win_rc_matches.sort_values(by='gold_per_min',ascending=False)\n",
    "\n",
    "fig = go.Figure(data=[\n",
    "    go.Bar(x=gpm_win_rc_matches.hero_name, y=gpm_win_rc_matches.gold_per_min, name='Winning Games'),\n",
    "    go.Bar(x=gpm_loss_rc_matches.hero_name, y=gpm_loss_rc_matches.gold_per_min, name='Losing Games')\n",
    "])\n",
    "fig.update_layout(\n",
    "    title = 'Gold Per Minute in Last 20 Games Per Hero, Win vs Loss'\n",
    ")\n",
    "fig.show()"
   ]
  },
  {
   "cell_type": "code",
   "execution_count": 10,
   "metadata": {},
   "outputs": [
    {
     "data": {
      "application/vnd.plotly.v1+json": {
       "config": {
        "plotlyServerURL": "https://plot.ly"
       },
       "data": [
        {
         "name": "Winning Games",
         "type": "bar",
         "x": [
          "Snapfire",
          "Mars",
          "Snapfire",
          "Mars",
          "Mars",
          "Chaos Knight",
          "Outworld Devourer",
          "Shadow Shaman",
          "Ogre Magi",
          "Primal Beast",
          "Primal Beast"
         ],
         "y": [
          133,
          165,
          214,
          97,
          143,
          219,
          206,
          44,
          29,
          160,
          328
         ]
        },
        {
         "name": "Losing Games",
         "type": "bar",
         "x": [
          "Snapfire",
          "Mars",
          "Chaos Knight",
          "Shadow Shaman",
          "Ogre Magi",
          "Primal Beast",
          "Io",
          "Ogre Magi",
          "Chaos Knight"
         ],
         "y": [
          284,
          130,
          152,
          18,
          137,
          11,
          11,
          21,
          158
         ]
        }
       ],
       "layout": {
        "template": {
         "data": {
          "bar": [
           {
            "error_x": {
             "color": "#2a3f5f"
            },
            "error_y": {
             "color": "#2a3f5f"
            },
            "marker": {
             "line": {
              "color": "#E5ECF6",
              "width": 0.5
             },
             "pattern": {
              "fillmode": "overlay",
              "size": 10,
              "solidity": 0.2
             }
            },
            "type": "bar"
           }
          ],
          "barpolar": [
           {
            "marker": {
             "line": {
              "color": "#E5ECF6",
              "width": 0.5
             },
             "pattern": {
              "fillmode": "overlay",
              "size": 10,
              "solidity": 0.2
             }
            },
            "type": "barpolar"
           }
          ],
          "carpet": [
           {
            "aaxis": {
             "endlinecolor": "#2a3f5f",
             "gridcolor": "white",
             "linecolor": "white",
             "minorgridcolor": "white",
             "startlinecolor": "#2a3f5f"
            },
            "baxis": {
             "endlinecolor": "#2a3f5f",
             "gridcolor": "white",
             "linecolor": "white",
             "minorgridcolor": "white",
             "startlinecolor": "#2a3f5f"
            },
            "type": "carpet"
           }
          ],
          "choropleth": [
           {
            "colorbar": {
             "outlinewidth": 0,
             "ticks": ""
            },
            "type": "choropleth"
           }
          ],
          "contour": [
           {
            "colorbar": {
             "outlinewidth": 0,
             "ticks": ""
            },
            "colorscale": [
             [
              0,
              "#0d0887"
             ],
             [
              0.1111111111111111,
              "#46039f"
             ],
             [
              0.2222222222222222,
              "#7201a8"
             ],
             [
              0.3333333333333333,
              "#9c179e"
             ],
             [
              0.4444444444444444,
              "#bd3786"
             ],
             [
              0.5555555555555556,
              "#d8576b"
             ],
             [
              0.6666666666666666,
              "#ed7953"
             ],
             [
              0.7777777777777778,
              "#fb9f3a"
             ],
             [
              0.8888888888888888,
              "#fdca26"
             ],
             [
              1,
              "#f0f921"
             ]
            ],
            "type": "contour"
           }
          ],
          "contourcarpet": [
           {
            "colorbar": {
             "outlinewidth": 0,
             "ticks": ""
            },
            "type": "contourcarpet"
           }
          ],
          "heatmap": [
           {
            "colorbar": {
             "outlinewidth": 0,
             "ticks": ""
            },
            "colorscale": [
             [
              0,
              "#0d0887"
             ],
             [
              0.1111111111111111,
              "#46039f"
             ],
             [
              0.2222222222222222,
              "#7201a8"
             ],
             [
              0.3333333333333333,
              "#9c179e"
             ],
             [
              0.4444444444444444,
              "#bd3786"
             ],
             [
              0.5555555555555556,
              "#d8576b"
             ],
             [
              0.6666666666666666,
              "#ed7953"
             ],
             [
              0.7777777777777778,
              "#fb9f3a"
             ],
             [
              0.8888888888888888,
              "#fdca26"
             ],
             [
              1,
              "#f0f921"
             ]
            ],
            "type": "heatmap"
           }
          ],
          "heatmapgl": [
           {
            "colorbar": {
             "outlinewidth": 0,
             "ticks": ""
            },
            "colorscale": [
             [
              0,
              "#0d0887"
             ],
             [
              0.1111111111111111,
              "#46039f"
             ],
             [
              0.2222222222222222,
              "#7201a8"
             ],
             [
              0.3333333333333333,
              "#9c179e"
             ],
             [
              0.4444444444444444,
              "#bd3786"
             ],
             [
              0.5555555555555556,
              "#d8576b"
             ],
             [
              0.6666666666666666,
              "#ed7953"
             ],
             [
              0.7777777777777778,
              "#fb9f3a"
             ],
             [
              0.8888888888888888,
              "#fdca26"
             ],
             [
              1,
              "#f0f921"
             ]
            ],
            "type": "heatmapgl"
           }
          ],
          "histogram": [
           {
            "marker": {
             "pattern": {
              "fillmode": "overlay",
              "size": 10,
              "solidity": 0.2
             }
            },
            "type": "histogram"
           }
          ],
          "histogram2d": [
           {
            "colorbar": {
             "outlinewidth": 0,
             "ticks": ""
            },
            "colorscale": [
             [
              0,
              "#0d0887"
             ],
             [
              0.1111111111111111,
              "#46039f"
             ],
             [
              0.2222222222222222,
              "#7201a8"
             ],
             [
              0.3333333333333333,
              "#9c179e"
             ],
             [
              0.4444444444444444,
              "#bd3786"
             ],
             [
              0.5555555555555556,
              "#d8576b"
             ],
             [
              0.6666666666666666,
              "#ed7953"
             ],
             [
              0.7777777777777778,
              "#fb9f3a"
             ],
             [
              0.8888888888888888,
              "#fdca26"
             ],
             [
              1,
              "#f0f921"
             ]
            ],
            "type": "histogram2d"
           }
          ],
          "histogram2dcontour": [
           {
            "colorbar": {
             "outlinewidth": 0,
             "ticks": ""
            },
            "colorscale": [
             [
              0,
              "#0d0887"
             ],
             [
              0.1111111111111111,
              "#46039f"
             ],
             [
              0.2222222222222222,
              "#7201a8"
             ],
             [
              0.3333333333333333,
              "#9c179e"
             ],
             [
              0.4444444444444444,
              "#bd3786"
             ],
             [
              0.5555555555555556,
              "#d8576b"
             ],
             [
              0.6666666666666666,
              "#ed7953"
             ],
             [
              0.7777777777777778,
              "#fb9f3a"
             ],
             [
              0.8888888888888888,
              "#fdca26"
             ],
             [
              1,
              "#f0f921"
             ]
            ],
            "type": "histogram2dcontour"
           }
          ],
          "mesh3d": [
           {
            "colorbar": {
             "outlinewidth": 0,
             "ticks": ""
            },
            "type": "mesh3d"
           }
          ],
          "parcoords": [
           {
            "line": {
             "colorbar": {
              "outlinewidth": 0,
              "ticks": ""
             }
            },
            "type": "parcoords"
           }
          ],
          "pie": [
           {
            "automargin": true,
            "type": "pie"
           }
          ],
          "scatter": [
           {
            "fillpattern": {
             "fillmode": "overlay",
             "size": 10,
             "solidity": 0.2
            },
            "type": "scatter"
           }
          ],
          "scatter3d": [
           {
            "line": {
             "colorbar": {
              "outlinewidth": 0,
              "ticks": ""
             }
            },
            "marker": {
             "colorbar": {
              "outlinewidth": 0,
              "ticks": ""
             }
            },
            "type": "scatter3d"
           }
          ],
          "scattercarpet": [
           {
            "marker": {
             "colorbar": {
              "outlinewidth": 0,
              "ticks": ""
             }
            },
            "type": "scattercarpet"
           }
          ],
          "scattergeo": [
           {
            "marker": {
             "colorbar": {
              "outlinewidth": 0,
              "ticks": ""
             }
            },
            "type": "scattergeo"
           }
          ],
          "scattergl": [
           {
            "marker": {
             "colorbar": {
              "outlinewidth": 0,
              "ticks": ""
             }
            },
            "type": "scattergl"
           }
          ],
          "scattermapbox": [
           {
            "marker": {
             "colorbar": {
              "outlinewidth": 0,
              "ticks": ""
             }
            },
            "type": "scattermapbox"
           }
          ],
          "scatterpolar": [
           {
            "marker": {
             "colorbar": {
              "outlinewidth": 0,
              "ticks": ""
             }
            },
            "type": "scatterpolar"
           }
          ],
          "scatterpolargl": [
           {
            "marker": {
             "colorbar": {
              "outlinewidth": 0,
              "ticks": ""
             }
            },
            "type": "scatterpolargl"
           }
          ],
          "scatterternary": [
           {
            "marker": {
             "colorbar": {
              "outlinewidth": 0,
              "ticks": ""
             }
            },
            "type": "scatterternary"
           }
          ],
          "surface": [
           {
            "colorbar": {
             "outlinewidth": 0,
             "ticks": ""
            },
            "colorscale": [
             [
              0,
              "#0d0887"
             ],
             [
              0.1111111111111111,
              "#46039f"
             ],
             [
              0.2222222222222222,
              "#7201a8"
             ],
             [
              0.3333333333333333,
              "#9c179e"
             ],
             [
              0.4444444444444444,
              "#bd3786"
             ],
             [
              0.5555555555555556,
              "#d8576b"
             ],
             [
              0.6666666666666666,
              "#ed7953"
             ],
             [
              0.7777777777777778,
              "#fb9f3a"
             ],
             [
              0.8888888888888888,
              "#fdca26"
             ],
             [
              1,
              "#f0f921"
             ]
            ],
            "type": "surface"
           }
          ],
          "table": [
           {
            "cells": {
             "fill": {
              "color": "#EBF0F8"
             },
             "line": {
              "color": "white"
             }
            },
            "header": {
             "fill": {
              "color": "#C8D4E3"
             },
             "line": {
              "color": "white"
             }
            },
            "type": "table"
           }
          ]
         },
         "layout": {
          "annotationdefaults": {
           "arrowcolor": "#2a3f5f",
           "arrowhead": 0,
           "arrowwidth": 1
          },
          "autotypenumbers": "strict",
          "coloraxis": {
           "colorbar": {
            "outlinewidth": 0,
            "ticks": ""
           }
          },
          "colorscale": {
           "diverging": [
            [
             0,
             "#8e0152"
            ],
            [
             0.1,
             "#c51b7d"
            ],
            [
             0.2,
             "#de77ae"
            ],
            [
             0.3,
             "#f1b6da"
            ],
            [
             0.4,
             "#fde0ef"
            ],
            [
             0.5,
             "#f7f7f7"
            ],
            [
             0.6,
             "#e6f5d0"
            ],
            [
             0.7,
             "#b8e186"
            ],
            [
             0.8,
             "#7fbc41"
            ],
            [
             0.9,
             "#4d9221"
            ],
            [
             1,
             "#276419"
            ]
           ],
           "sequential": [
            [
             0,
             "#0d0887"
            ],
            [
             0.1111111111111111,
             "#46039f"
            ],
            [
             0.2222222222222222,
             "#7201a8"
            ],
            [
             0.3333333333333333,
             "#9c179e"
            ],
            [
             0.4444444444444444,
             "#bd3786"
            ],
            [
             0.5555555555555556,
             "#d8576b"
            ],
            [
             0.6666666666666666,
             "#ed7953"
            ],
            [
             0.7777777777777778,
             "#fb9f3a"
            ],
            [
             0.8888888888888888,
             "#fdca26"
            ],
            [
             1,
             "#f0f921"
            ]
           ],
           "sequentialminus": [
            [
             0,
             "#0d0887"
            ],
            [
             0.1111111111111111,
             "#46039f"
            ],
            [
             0.2222222222222222,
             "#7201a8"
            ],
            [
             0.3333333333333333,
             "#9c179e"
            ],
            [
             0.4444444444444444,
             "#bd3786"
            ],
            [
             0.5555555555555556,
             "#d8576b"
            ],
            [
             0.6666666666666666,
             "#ed7953"
            ],
            [
             0.7777777777777778,
             "#fb9f3a"
            ],
            [
             0.8888888888888888,
             "#fdca26"
            ],
            [
             1,
             "#f0f921"
            ]
           ]
          },
          "colorway": [
           "#636efa",
           "#EF553B",
           "#00cc96",
           "#ab63fa",
           "#FFA15A",
           "#19d3f3",
           "#FF6692",
           "#B6E880",
           "#FF97FF",
           "#FECB52"
          ],
          "font": {
           "color": "#2a3f5f"
          },
          "geo": {
           "bgcolor": "white",
           "lakecolor": "white",
           "landcolor": "#E5ECF6",
           "showlakes": true,
           "showland": true,
           "subunitcolor": "white"
          },
          "hoverlabel": {
           "align": "left"
          },
          "hovermode": "closest",
          "mapbox": {
           "style": "light"
          },
          "paper_bgcolor": "white",
          "plot_bgcolor": "#E5ECF6",
          "polar": {
           "angularaxis": {
            "gridcolor": "white",
            "linecolor": "white",
            "ticks": ""
           },
           "bgcolor": "#E5ECF6",
           "radialaxis": {
            "gridcolor": "white",
            "linecolor": "white",
            "ticks": ""
           }
          },
          "scene": {
           "xaxis": {
            "backgroundcolor": "#E5ECF6",
            "gridcolor": "white",
            "gridwidth": 2,
            "linecolor": "white",
            "showbackground": true,
            "ticks": "",
            "zerolinecolor": "white"
           },
           "yaxis": {
            "backgroundcolor": "#E5ECF6",
            "gridcolor": "white",
            "gridwidth": 2,
            "linecolor": "white",
            "showbackground": true,
            "ticks": "",
            "zerolinecolor": "white"
           },
           "zaxis": {
            "backgroundcolor": "#E5ECF6",
            "gridcolor": "white",
            "gridwidth": 2,
            "linecolor": "white",
            "showbackground": true,
            "ticks": "",
            "zerolinecolor": "white"
           }
          },
          "shapedefaults": {
           "line": {
            "color": "#2a3f5f"
           }
          },
          "ternary": {
           "aaxis": {
            "gridcolor": "white",
            "linecolor": "white",
            "ticks": ""
           },
           "baxis": {
            "gridcolor": "white",
            "linecolor": "white",
            "ticks": ""
           },
           "bgcolor": "#E5ECF6",
           "caxis": {
            "gridcolor": "white",
            "linecolor": "white",
            "ticks": ""
           }
          },
          "title": {
           "x": 0.05
          },
          "xaxis": {
           "automargin": true,
           "gridcolor": "white",
           "linecolor": "white",
           "ticks": "",
           "title": {
            "standoff": 15
           },
           "zerolinecolor": "white",
           "zerolinewidth": 2
          },
          "yaxis": {
           "automargin": true,
           "gridcolor": "white",
           "linecolor": "white",
           "ticks": "",
           "title": {
            "standoff": 15
           },
           "zerolinecolor": "white",
           "zerolinewidth": 2
          }
         }
        },
        "title": {
         "text": "Last Hits in Last 20 Games Per Hero, Win vs Loss "
        }
       }
      }
     },
     "metadata": {},
     "output_type": "display_data"
    }
   ],
   "source": [
    "# df_Paid.groupby(['Charge Code'])['Days'].mean()\n",
    "lh_win_rc_matches = pd.DataFrame(win_rc_matches.groupby(['hero_name'])['last_hits'].mean()).reset_index()\n",
    "lh_loss_rc_matches = pd.DataFrame(loss_rc_matches.groupby(['hero_name'])['last_hits'].mean()).reset_index()\n",
    "\n",
    "fig = go.Figure(data=[\n",
    "    go.Bar(x=win_rc_matches.hero_name, y=win_rc_matches.last_hits, name='Winning Games'),\n",
    "    go.Bar(x=loss_rc_matches.hero_name, y=loss_rc_matches.last_hits, name='Losing Games')\n",
    "])\n",
    "fig.update_layout(\n",
    "    title = 'Last Hits in Last 20 Games Per Hero, Win vs Loss '\n",
    ")\n",
    "fig.show()"
   ]
  },
  {
   "cell_type": "code",
   "execution_count": 57,
   "metadata": {},
   "outputs": [
    {
     "data": {
      "text/html": [
       "\n",
       "        <iframe\n",
       "            width=\"100%\"\n",
       "            height=\"650\"\n",
       "            src=\"http://127.0.0.1:8050/\"\n",
       "            frameborder=\"0\"\n",
       "            allowfullscreen\n",
       "            \n",
       "        ></iframe>\n",
       "        "
      ],
      "text/plain": [
       "<IPython.lib.display.IFrame at 0x13f8a22cee0>"
      ]
     },
     "metadata": {},
     "output_type": "display_data"
    }
   ],
   "source": [
    "external_stylesheets = ['https://codepen.io/chriddyp/pen/bWLwgP.css']\n",
    "app = JupyterDash(__name__, external_stylesheets=external_stylesheets)\n",
    "\n",
    "\n",
    "\n",
    "app.layout = html.Div([\n",
    "    html.H3(children='Heroes'),\n",
    "    dcc.Dropdown(\n",
    "        id='heroes',\n",
    "        options=[{'label': x, 'value': x} for x in rc_matches_df['hero_name'].unique()],\n",
    "        value=rc_matches_df['hero_name'].unique(),\n",
    "        multi=True\n",
    "    ),\n",
    "    html.H3(children='Data Type'),\n",
    "    dcc.RadioItems(\n",
    "        id='type-data',\n",
    "        options=[\n",
    "            {'label': 'Gold Per Minute', 'value': 'gold_per_min'}, \n",
    "            {'label': 'Experience Per Minute','value': 'xp_per_min'},\n",
    "            {'label': 'Last Hits', 'value': 'last_hits'}],\n",
    "        value='gold_per_min'\n",
    "    ),\n",
    "    html.H3(children='Game Outcome'),\n",
    "    dcc.RadioItems(\n",
    "        id='game-outcome',\n",
    "        options=[\n",
    "            {'label': 'Win', 'value': 'win'}, \n",
    "            {'label': 'Loss','value': 'loss'},\n",
    "            {'label': 'Both', 'value': 'both'}],\n",
    "        value='both'\n",
    "    ),\n",
    "    dcc.Graph(id='graph-with-slider'),\n",
    "    dcc.Graph(id='graph2-with-slider'),\n",
    "    dcc.Graph(id='graph3-with-slider')\n",
    "])\n",
    "\n",
    "\n",
    "@app.callback(\n",
    "    Output('graph-with-slider', 'figure'),\n",
    "    [Input('heroes', 'value')],\n",
    "    [Input('type-data', 'value')],\n",
    "    [Input('game-outcome', 'value')]\n",
    ")\n",
    "def update_figure(heroes, type_data, game_outcome):\n",
    "\n",
    "    heros_selected = rc_matches_df.loc[rc_matches_df['hero_name'].isin(heroes)].copy()\n",
    "    win_rc_matches = heros_selected[heros_selected.player_win == True]\n",
    "    loss_rc_matches = heros_selected[heros_selected.player_win == False]\n",
    "\n",
    "    if(game_outcome== 'loss'):\n",
    "        loss_rc_matches = pd.DataFrame(loss_rc_matches.groupby(['hero_name'])[type_data].mean()).reset_index()\n",
    "        loss_rc_matches = loss_rc_matches.sort_values(by=type_data,ascending=False)\n",
    "        fig = px.bar(x=loss_rc_matches.hero_name, y=loss_rc_matches[type_data])\n",
    "    elif(game_outcome== 'win'):\n",
    "        win_rc_matches = pd.DataFrame(win_rc_matches.groupby(['hero_name'])[type_data].mean()).reset_index()\n",
    "        win_rc_matches = win_rc_matches.sort_values(by=type_data,ascending=False)\n",
    "        fig = px.bar(x=win_rc_matches.hero_name, y=win_rc_matches[type_data])\n",
    "    else:\n",
    "        heros_selected = pd.DataFrame(heros_selected.groupby(['hero_name'])[type_data].mean()).reset_index()\n",
    "        heros_selected = heros_selected.sort_values(by=type_data,ascending=False)\n",
    "        fig = px.bar(x=heros_selected.hero_name, y=heros_selected[type_data])\n",
    "\n",
    "    return fig\n",
    "\n",
    "\n",
    "if __name__ == '__main__':\n",
    "    app.run_server(mode=\"inline\")"
   ]
  }
 ],
 "metadata": {
  "interpreter": {
   "hash": "de7be06f16b0c8250164cd098519bcba9b1e920a061650e2268c2cadef4e7acc"
  },
  "kernelspec": {
   "display_name": "Python 3.8.8 ('base')",
   "language": "python",
   "name": "python3"
  },
  "language_info": {
   "codemirror_mode": {
    "name": "ipython",
    "version": 3
   },
   "file_extension": ".py",
   "mimetype": "text/x-python",
   "name": "python",
   "nbconvert_exporter": "python",
   "pygments_lexer": "ipython3",
   "version": "3.9.1"
  },
  "orig_nbformat": 4
 },
 "nbformat": 4,
 "nbformat_minor": 2
}
